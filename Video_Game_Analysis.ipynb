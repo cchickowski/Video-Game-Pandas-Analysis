{
 "cells": [
  {
   "cell_type": "markdown",
   "metadata": {},
   "source": [
    "### Note\n",
    "* Instructions have been included for each segment. You do not have to follow them exactly, but they are included to help you think through the steps."
   ]
  },
  {
   "cell_type": "code",
   "execution_count": 12,
   "metadata": {},
   "outputs": [
    {
     "data": {
      "text/html": [
       "<div>\n",
       "<style scoped>\n",
       "    .dataframe tbody tr th:only-of-type {\n",
       "        vertical-align: middle;\n",
       "    }\n",
       "\n",
       "    .dataframe tbody tr th {\n",
       "        vertical-align: top;\n",
       "    }\n",
       "\n",
       "    .dataframe thead th {\n",
       "        text-align: right;\n",
       "    }\n",
       "</style>\n",
       "<table border=\"1\" class=\"dataframe\">\n",
       "  <thead>\n",
       "    <tr style=\"text-align: right;\">\n",
       "      <th></th>\n",
       "      <th>Purchase ID</th>\n",
       "      <th>SN</th>\n",
       "      <th>Age</th>\n",
       "      <th>Gender</th>\n",
       "      <th>Item ID</th>\n",
       "      <th>Item Name</th>\n",
       "      <th>Price</th>\n",
       "    </tr>\n",
       "  </thead>\n",
       "  <tbody>\n",
       "    <tr>\n",
       "      <th>0</th>\n",
       "      <td>0</td>\n",
       "      <td>Lisim78</td>\n",
       "      <td>20</td>\n",
       "      <td>Male</td>\n",
       "      <td>108</td>\n",
       "      <td>Extraction, Quickblade Of Trembling Hands</td>\n",
       "      <td>3.53</td>\n",
       "    </tr>\n",
       "    <tr>\n",
       "      <th>1</th>\n",
       "      <td>1</td>\n",
       "      <td>Lisovynya38</td>\n",
       "      <td>40</td>\n",
       "      <td>Male</td>\n",
       "      <td>143</td>\n",
       "      <td>Frenzied Scimitar</td>\n",
       "      <td>1.56</td>\n",
       "    </tr>\n",
       "    <tr>\n",
       "      <th>2</th>\n",
       "      <td>2</td>\n",
       "      <td>Ithergue48</td>\n",
       "      <td>24</td>\n",
       "      <td>Male</td>\n",
       "      <td>92</td>\n",
       "      <td>Final Critic</td>\n",
       "      <td>4.88</td>\n",
       "    </tr>\n",
       "    <tr>\n",
       "      <th>3</th>\n",
       "      <td>3</td>\n",
       "      <td>Chamassasya86</td>\n",
       "      <td>24</td>\n",
       "      <td>Male</td>\n",
       "      <td>100</td>\n",
       "      <td>Blindscythe</td>\n",
       "      <td>3.27</td>\n",
       "    </tr>\n",
       "    <tr>\n",
       "      <th>4</th>\n",
       "      <td>4</td>\n",
       "      <td>Iskosia90</td>\n",
       "      <td>23</td>\n",
       "      <td>Male</td>\n",
       "      <td>131</td>\n",
       "      <td>Fury</td>\n",
       "      <td>1.44</td>\n",
       "    </tr>\n",
       "  </tbody>\n",
       "</table>\n",
       "</div>"
      ],
      "text/plain": [
       "   Purchase ID             SN  Age Gender  Item ID  \\\n",
       "0            0        Lisim78   20   Male      108   \n",
       "1            1    Lisovynya38   40   Male      143   \n",
       "2            2     Ithergue48   24   Male       92   \n",
       "3            3  Chamassasya86   24   Male      100   \n",
       "4            4      Iskosia90   23   Male      131   \n",
       "\n",
       "                                   Item Name  Price  \n",
       "0  Extraction, Quickblade Of Trembling Hands   3.53  \n",
       "1                          Frenzied Scimitar   1.56  \n",
       "2                               Final Critic   4.88  \n",
       "3                                Blindscythe   3.27  \n",
       "4                                       Fury   1.44  "
      ]
     },
     "execution_count": 12,
     "metadata": {},
     "output_type": "execute_result"
    }
   ],
   "source": [
    "# Dependencies and Setup\n",
    "import pandas as pd\n",
    "\n",
    "\n",
    "# File to Load (Remember to Change These)\n",
    "file_to_load = r'C:\\Users\\cchic\\OneDrive\\Documents\\projects_challenges\\Heroes of Pymoli\\purchase_data.csv'\n",
    "\n",
    "# Read Purchasing File and store into Pandas data frame\n",
    "purchase_data_df = pd.read_csv(file_to_load)\n",
    " \n",
    "purchase_data_df.head()"
   ]
  },
  {
   "cell_type": "markdown",
   "metadata": {},
   "source": [
    "## Player Count"
   ]
  },
  {
   "cell_type": "markdown",
   "metadata": {},
   "source": [
    "* Display the total number of players\n"
   ]
  },
  {
   "cell_type": "code",
   "execution_count": 13,
   "metadata": {},
   "outputs": [
    {
     "data": {
      "text/html": [
       "<div>\n",
       "<style scoped>\n",
       "    .dataframe tbody tr th:only-of-type {\n",
       "        vertical-align: middle;\n",
       "    }\n",
       "\n",
       "    .dataframe tbody tr th {\n",
       "        vertical-align: top;\n",
       "    }\n",
       "\n",
       "    .dataframe thead th {\n",
       "        text-align: right;\n",
       "    }\n",
       "</style>\n",
       "<table border=\"1\" class=\"dataframe\">\n",
       "  <thead>\n",
       "    <tr style=\"text-align: right;\">\n",
       "      <th></th>\n",
       "      <th>Total Players</th>\n",
       "    </tr>\n",
       "  </thead>\n",
       "  <tbody>\n",
       "    <tr>\n",
       "      <th>0</th>\n",
       "      <td>576</td>\n",
       "    </tr>\n",
       "  </tbody>\n",
       "</table>\n",
       "</div>"
      ],
      "text/plain": [
       "   Total Players\n",
       "0            576"
      ]
     },
     "execution_count": 13,
     "metadata": {},
     "output_type": "execute_result"
    }
   ],
   "source": [
    "#Count players using screen name ID \n",
    "player_count = len(purchase_data_df[\"SN\"].value_counts())\n",
    "\n",
    "#Create and show dataframe\n",
    "total_players = pd.DataFrame({'Total Players': [player_count]})\n",
    "total_players"
   ]
  },
  {
   "cell_type": "markdown",
   "metadata": {},
   "source": [
    "## Purchasing Analysis (Total)"
   ]
  },
  {
   "cell_type": "markdown",
   "metadata": {},
   "source": [
    "* Run basic calculations to obtain number of unique items, average price, etc.\n",
    "\n",
    "\n",
    "* Create a summary data frame to hold the results\n",
    "\n",
    "\n",
    "* Optional: give the displayed data cleaner formatting\n",
    "\n",
    "\n",
    "* Display the summary data frame\n"
   ]
  },
  {
   "cell_type": "code",
   "execution_count": 14,
   "metadata": {
    "scrolled": true
   },
   "outputs": [
    {
     "data": {
      "text/html": [
       "<style  type=\"text/css\" >\n",
       "</style><table id=\"T_38ef9_\" ><thead>    <tr>        <th class=\"blank level0\" ></th>        <th class=\"col_heading level0 col0\" >Number of Unique Items</th>        <th class=\"col_heading level0 col1\" >Average Price</th>        <th class=\"col_heading level0 col2\" >Total Purchase</th>        <th class=\"col_heading level0 col3\" >Total Revenue</th>    </tr></thead><tbody>\n",
       "                <tr>\n",
       "                        <th id=\"T_38ef9_level0_row0\" class=\"row_heading level0 row0\" >0</th>\n",
       "                        <td id=\"T_38ef9_row0_col0\" class=\"data row0 col0\" >179</td>\n",
       "                        <td id=\"T_38ef9_row0_col1\" class=\"data row0 col1\" >$3.05</td>\n",
       "                        <td id=\"T_38ef9_row0_col2\" class=\"data row0 col2\" >780</td>\n",
       "                        <td id=\"T_38ef9_row0_col3\" class=\"data row0 col3\" >$2,379.77</td>\n",
       "            </tr>\n",
       "    </tbody></table>"
      ],
      "text/plain": [
       "<pandas.io.formats.style.Styler at 0x19296ea4460>"
      ]
     },
     "execution_count": 14,
     "metadata": {},
     "output_type": "execute_result"
    }
   ],
   "source": [
    "#Count items\n",
    "unique_items = len(purchase_data_df[\"Item ID\"].value_counts())\n",
    "#unique_items = pd.DataFrame({'Number of Unique Items': [unique_items]})\n",
    "\n",
    "#Calculate Avg Price with mean function\n",
    "average_price = (purchase_data_df[\"Price\"].mean())\n",
    "#average_price = pd.DataFrame({'Average Price': [average_price]})\n",
    "\n",
    "#Calculate total purchase with count function\n",
    "total_purchases = (purchase_data_df[\"Purchase ID\"].count())\n",
    "\n",
    "#Calculate total revenue with sum function\n",
    "total_revenue = (purchase_data_df[\"Price\"].sum())\n",
    "\n",
    "#Create dataframe to show summary data\n",
    "summary_data_df = pd.DataFrame({\"Number of Unique Items\": [unique_items], 'Average Price': [average_price],\n",
    "                               \"Total Purchase\": [total_purchases], \"Total Revenue\": [total_revenue]})\n",
    "#Show dataframe\n",
    "summary_data_df\n",
    "\n",
    "#Format dataframe\n",
    "summary_data_df.style.format({\"Average Price\": '${:,.2f}', \"Total Revenue\": '${:,.2f}'})\n"
   ]
  },
  {
   "cell_type": "markdown",
   "metadata": {},
   "source": [
    "## Gender Demographics"
   ]
  },
  {
   "cell_type": "markdown",
   "metadata": {},
   "source": [
    "* Percentage and Count of Male Players\n",
    "\n",
    "\n",
    "* Percentage and Count of Female Players\n",
    "\n",
    "\n",
    "* Percentage and Count of Other / Non-Disclosed\n",
    "\n",
    "\n"
   ]
  },
  {
   "cell_type": "code",
   "execution_count": 15,
   "metadata": {},
   "outputs": [
    {
     "data": {
      "text/html": [
       "<style  type=\"text/css\" >\n",
       "</style><table id=\"T_8c2de_\" ><thead>    <tr>        <th class=\"blank level0\" ></th>        <th class=\"col_heading level0 col0\" >Total Count</th>        <th class=\"col_heading level0 col1\" >Percentage of Players</th>    </tr>    <tr>        <th class=\"index_name level0\" >Gender</th>        <th class=\"blank\" ></th>        <th class=\"blank\" ></th>    </tr></thead><tbody>\n",
       "                <tr>\n",
       "                        <th id=\"T_8c2de_level0_row0\" class=\"row_heading level0 row0\" >Female</th>\n",
       "                        <td id=\"T_8c2de_row0_col0\" class=\"data row0 col0\" >81</td>\n",
       "                        <td id=\"T_8c2de_row0_col1\" class=\"data row0 col1\" >14.06%</td>\n",
       "            </tr>\n",
       "            <tr>\n",
       "                        <th id=\"T_8c2de_level0_row1\" class=\"row_heading level0 row1\" >Male</th>\n",
       "                        <td id=\"T_8c2de_row1_col0\" class=\"data row1 col0\" >484</td>\n",
       "                        <td id=\"T_8c2de_row1_col1\" class=\"data row1 col1\" >84.03%</td>\n",
       "            </tr>\n",
       "            <tr>\n",
       "                        <th id=\"T_8c2de_level0_row2\" class=\"row_heading level0 row2\" >Other / Non-Disclosed</th>\n",
       "                        <td id=\"T_8c2de_row2_col0\" class=\"data row2 col0\" >11</td>\n",
       "                        <td id=\"T_8c2de_row2_col1\" class=\"data row2 col1\" >1.91%</td>\n",
       "            </tr>\n",
       "    </tbody></table>"
      ],
      "text/plain": [
       "<pandas.io.formats.style.Styler at 0x19296daccd0>"
      ]
     },
     "execution_count": 15,
     "metadata": {},
     "output_type": "execute_result"
    }
   ],
   "source": [
    "#Group data by gender\n",
    "genders_df = purchase_data_df.groupby(['Gender'])\n",
    "\n",
    "#Count genders using nunique function\n",
    "gender_count = genders_df.nunique()['SN']\n",
    "#gender_count.head()\n",
    "\n",
    "#Calculate percentage of each gender\n",
    "percentage_players = gender_count / player_count * 100\n",
    "#percentage_players.head()\n",
    "\n",
    "#Create dataframe\n",
    "gender_demo_df = pd.DataFrame({'Total Count': gender_count, \"Percentage of Players\": percentage_players})\n",
    "\n",
    "#Show dataframe\n",
    "gender_demo_df\n",
    "\n",
    "#Format dataframe\n",
    "gender_demo_df.style.format({'Percentage of Players':'{:,.2f}%'})\n",
    "\n"
   ]
  },
  {
   "cell_type": "markdown",
   "metadata": {},
   "source": [
    "\n",
    "## Purchasing Analysis (Gender)"
   ]
  },
  {
   "cell_type": "markdown",
   "metadata": {},
   "source": [
    "* Run basic calculations to obtain purchase count, avg. purchase price, avg. purchase total per person etc. by gender\n",
    "\n",
    "\n",
    "\n",
    "\n",
    "* Create a summary data frame to hold the results\n",
    "\n",
    "\n",
    "* Optional: give the displayed data cleaner formatting\n",
    "\n",
    "\n",
    "* Display the summary data frame"
   ]
  },
  {
   "cell_type": "code",
   "execution_count": 16,
   "metadata": {},
   "outputs": [
    {
     "data": {
      "text/html": [
       "<style  type=\"text/css\" >\n",
       "</style><table id=\"T_6883a_\" ><thead>    <tr>        <th class=\"blank level0\" ></th>        <th class=\"col_heading level0 col0\" >Purchase Count</th>        <th class=\"col_heading level0 col1\" >Average Purchase Price</th>        <th class=\"col_heading level0 col2\" >Total Purchase Value</th>        <th class=\"col_heading level0 col3\" >Avg Total Purchase Per Person</th>    </tr>    <tr>        <th class=\"index_name level0\" >Gender</th>        <th class=\"blank\" ></th>        <th class=\"blank\" ></th>        <th class=\"blank\" ></th>        <th class=\"blank\" ></th>    </tr></thead><tbody>\n",
       "                <tr>\n",
       "                        <th id=\"T_6883a_level0_row0\" class=\"row_heading level0 row0\" >Female</th>\n",
       "                        <td id=\"T_6883a_row0_col0\" class=\"data row0 col0\" >113</td>\n",
       "                        <td id=\"T_6883a_row0_col1\" class=\"data row0 col1\" >$3.20</td>\n",
       "                        <td id=\"T_6883a_row0_col2\" class=\"data row0 col2\" >$361.94</td>\n",
       "                        <td id=\"T_6883a_row0_col3\" class=\"data row0 col3\" >$4.47</td>\n",
       "            </tr>\n",
       "            <tr>\n",
       "                        <th id=\"T_6883a_level0_row1\" class=\"row_heading level0 row1\" >Male</th>\n",
       "                        <td id=\"T_6883a_row1_col0\" class=\"data row1 col0\" >652</td>\n",
       "                        <td id=\"T_6883a_row1_col1\" class=\"data row1 col1\" >$3.02</td>\n",
       "                        <td id=\"T_6883a_row1_col2\" class=\"data row1 col2\" >$1,967.64</td>\n",
       "                        <td id=\"T_6883a_row1_col3\" class=\"data row1 col3\" >$4.07</td>\n",
       "            </tr>\n",
       "            <tr>\n",
       "                        <th id=\"T_6883a_level0_row2\" class=\"row_heading level0 row2\" >Other / Non-Disclosed</th>\n",
       "                        <td id=\"T_6883a_row2_col0\" class=\"data row2 col0\" >15</td>\n",
       "                        <td id=\"T_6883a_row2_col1\" class=\"data row2 col1\" >$3.35</td>\n",
       "                        <td id=\"T_6883a_row2_col2\" class=\"data row2 col2\" >$50.19</td>\n",
       "                        <td id=\"T_6883a_row2_col3\" class=\"data row2 col3\" >$4.56</td>\n",
       "            </tr>\n",
       "    </tbody></table>"
      ],
      "text/plain": [
       "<pandas.io.formats.style.Styler at 0x19296d9d460>"
      ]
     },
     "execution_count": 16,
     "metadata": {},
     "output_type": "execute_result"
    }
   ],
   "source": [
    "#Get purchase per gender\n",
    "purchase_count = genders_df['Purchase ID'].count()\n",
    "#purchase_count.head()\n",
    "\n",
    "#Calculate avg purchase price\n",
    "avg_purchase_price = genders_df['Price'].mean()\n",
    "#avg_purchase_price.head()\n",
    "\n",
    "#Calculate purchase total by gender\n",
    "avg_purchase_total = genders_df['Price'].sum()\n",
    "#avg_purchase_total.head()\n",
    "\n",
    "#Calculate avg purchase per person\n",
    "avg_purchase_perperson = avg_purchase_total / gender_count\n",
    "#avg_purchase_perperson.head()\n",
    "\n",
    "\n",
    "#Create dataframe for analysis\n",
    "purchasing_analysis_df = pd.DataFrame({'Purchase Count': purchase_count, \n",
    "                                       \"Average Purchase Price\": avg_purchase_price,\n",
    "                                      \"Total Purchase Value\": avg_purchase_total, \n",
    "                                       \"Avg Total Purchase Per Person\": avg_purchase_perperson})\n",
    "#Show dataframe\n",
    "purchasing_analysis_df\n",
    "\n",
    "#Format dataframe\n",
    "purchasing_analysis_df.style.format({'Average Purchase Price':'${:,.2f}',\n",
    "                                    'Total Purchase Value':'${:,.2f}',\n",
    "                                    'Avg Total Purchase Per Person':'${:,.2f}'})\n",
    "                                     \n",
    "                    "
   ]
  },
  {
   "cell_type": "markdown",
   "metadata": {},
   "source": [
    "## Age Demographics"
   ]
  },
  {
   "cell_type": "markdown",
   "metadata": {},
   "source": [
    "* Establish bins for ages\n",
    "\n",
    "\n",
    "* Categorize the existing players using the age bins. Hint: use pd.cut()\n",
    "\n",
    "\n",
    "* Calculate the numbers and percentages by age group\n",
    "\n",
    "\n",
    "* Create a summary data frame to hold the results\n",
    "\n",
    "\n",
    "* Optional: round the percentage column to two decimal points\n",
    "\n",
    "\n",
    "* Display Age Demographics Table\n"
   ]
  },
  {
   "cell_type": "code",
   "execution_count": 17,
   "metadata": {},
   "outputs": [
    {
     "data": {
      "text/html": [
       "<style  type=\"text/css\" >\n",
       "</style><table id=\"T_375af_\" ><thead>    <tr>        <th class=\"blank level0\" ></th>        <th class=\"col_heading level0 col0\" >Total Count</th>        <th class=\"col_heading level0 col1\" >Percentage of Players</th>    </tr>    <tr>        <th class=\"index_name level0\" >Age Group</th>        <th class=\"blank\" ></th>        <th class=\"blank\" ></th>    </tr></thead><tbody>\n",
       "                <tr>\n",
       "                        <th id=\"T_375af_level0_row0\" class=\"row_heading level0 row0\" ><10</th>\n",
       "                        <td id=\"T_375af_row0_col0\" class=\"data row0 col0\" >17</td>\n",
       "                        <td id=\"T_375af_row0_col1\" class=\"data row0 col1\" >2.95%</td>\n",
       "            </tr>\n",
       "            <tr>\n",
       "                        <th id=\"T_375af_level0_row1\" class=\"row_heading level0 row1\" >10-14</th>\n",
       "                        <td id=\"T_375af_row1_col0\" class=\"data row1 col0\" >22</td>\n",
       "                        <td id=\"T_375af_row1_col1\" class=\"data row1 col1\" >3.82%</td>\n",
       "            </tr>\n",
       "            <tr>\n",
       "                        <th id=\"T_375af_level0_row2\" class=\"row_heading level0 row2\" >15-19</th>\n",
       "                        <td id=\"T_375af_row2_col0\" class=\"data row2 col0\" >107</td>\n",
       "                        <td id=\"T_375af_row2_col1\" class=\"data row2 col1\" >18.58%</td>\n",
       "            </tr>\n",
       "            <tr>\n",
       "                        <th id=\"T_375af_level0_row3\" class=\"row_heading level0 row3\" >20-24</th>\n",
       "                        <td id=\"T_375af_row3_col0\" class=\"data row3 col0\" >258</td>\n",
       "                        <td id=\"T_375af_row3_col1\" class=\"data row3 col1\" >44.79%</td>\n",
       "            </tr>\n",
       "            <tr>\n",
       "                        <th id=\"T_375af_level0_row4\" class=\"row_heading level0 row4\" >25-29</th>\n",
       "                        <td id=\"T_375af_row4_col0\" class=\"data row4 col0\" >77</td>\n",
       "                        <td id=\"T_375af_row4_col1\" class=\"data row4 col1\" >13.37%</td>\n",
       "            </tr>\n",
       "            <tr>\n",
       "                        <th id=\"T_375af_level0_row5\" class=\"row_heading level0 row5\" >30-34</th>\n",
       "                        <td id=\"T_375af_row5_col0\" class=\"data row5 col0\" >52</td>\n",
       "                        <td id=\"T_375af_row5_col1\" class=\"data row5 col1\" >9.03%</td>\n",
       "            </tr>\n",
       "            <tr>\n",
       "                        <th id=\"T_375af_level0_row6\" class=\"row_heading level0 row6\" >35-39</th>\n",
       "                        <td id=\"T_375af_row6_col0\" class=\"data row6 col0\" >31</td>\n",
       "                        <td id=\"T_375af_row6_col1\" class=\"data row6 col1\" >5.38%</td>\n",
       "            </tr>\n",
       "            <tr>\n",
       "                        <th id=\"T_375af_level0_row7\" class=\"row_heading level0 row7\" >40+</th>\n",
       "                        <td id=\"T_375af_row7_col0\" class=\"data row7 col0\" >12</td>\n",
       "                        <td id=\"T_375af_row7_col1\" class=\"data row7 col1\" >2.08%</td>\n",
       "            </tr>\n",
       "    </tbody></table>"
      ],
      "text/plain": [
       "<pandas.io.formats.style.Styler at 0x19296d8bd30>"
      ]
     },
     "execution_count": 17,
     "metadata": {},
     "output_type": "execute_result"
    }
   ],
   "source": [
    "#Create bins for age ranges\n",
    "ages_bin = [0, 9.99, 14.99, 19.99, 24.99, 29.99, 34.99, 39.99, 100]\n",
    "ages_names = [\"<10\", \"10-14\", \"15-19\", \"20-24\", \"25-29\", \"30-34\", \"35-39\", \"40+\"]\n",
    "\n",
    "#Use pdCut from hint to get age in bins\n",
    "purchase_data_df['Age Group'] = pd.cut(purchase_data_df[\"Age\"], ages_bin, labels=ages_names)\n",
    "\n",
    "#Create new data frame for ages group\n",
    "age_summary_df = purchase_data_df.groupby('Age Group')\n",
    "#age_summary_df.count().head()\n",
    "\n",
    "#Total up players for each age range\n",
    "age_group_totals = age_summary_df['SN'].nunique()\n",
    "#age_group_totals.head()\n",
    "\n",
    "#Calculate percentage\n",
    "ages_percentages = (age_group_totals / player_count) * 100\n",
    "#ages_percentages.head()\n",
    "\n",
    "#Creat dataframe\n",
    "age_demo_df = pd.DataFrame({\"Total Count\": age_group_totals,\n",
    "                           \"Percentage of Players\": ages_percentages})\n",
    "#show dataframe\n",
    "age_demo_df\n",
    "\n",
    "#format dataframe\n",
    "age_demo_df.style.format({'Percentage of Players':'{:,.2f}%'})\n"
   ]
  },
  {
   "cell_type": "markdown",
   "metadata": {},
   "source": [
    "## Purchasing Analysis (Age)"
   ]
  },
  {
   "cell_type": "markdown",
   "metadata": {},
   "source": [
    "* Bin the purchase_data data frame by age\n",
    "\n",
    "\n",
    "* Run basic calculations to obtain purchase count, avg. purchase price, avg. purchase total per person etc. in the table below\n",
    "\n",
    "\n",
    "* Create a summary data frame to hold the results\n",
    "\n",
    "\n",
    "* Optional: give the displayed data cleaner formatting\n",
    "\n",
    "\n",
    "* Display the summary data frame"
   ]
  },
  {
   "cell_type": "code",
   "execution_count": 18,
   "metadata": {},
   "outputs": [
    {
     "data": {
      "text/html": [
       "<style  type=\"text/css\" >\n",
       "</style><table id=\"T_fe8e2_\" ><thead>    <tr>        <th class=\"blank level0\" ></th>        <th class=\"col_heading level0 col0\" >Purchase Count</th>        <th class=\"col_heading level0 col1\" >Average Purchase Price</th>        <th class=\"col_heading level0 col2\" >Total Purchase Value</th>        <th class=\"col_heading level0 col3\" >Avg Total Purchase per Person</th>    </tr>    <tr>        <th class=\"index_name level0\" >Age Group</th>        <th class=\"blank\" ></th>        <th class=\"blank\" ></th>        <th class=\"blank\" ></th>        <th class=\"blank\" ></th>    </tr></thead><tbody>\n",
       "                <tr>\n",
       "                        <th id=\"T_fe8e2_level0_row0\" class=\"row_heading level0 row0\" ><10</th>\n",
       "                        <td id=\"T_fe8e2_row0_col0\" class=\"data row0 col0\" >23</td>\n",
       "                        <td id=\"T_fe8e2_row0_col1\" class=\"data row0 col1\" >$3.35</td>\n",
       "                        <td id=\"T_fe8e2_row0_col2\" class=\"data row0 col2\" >$77.13</td>\n",
       "                        <td id=\"T_fe8e2_row0_col3\" class=\"data row0 col3\" >$4.54</td>\n",
       "            </tr>\n",
       "            <tr>\n",
       "                        <th id=\"T_fe8e2_level0_row1\" class=\"row_heading level0 row1\" >10-14</th>\n",
       "                        <td id=\"T_fe8e2_row1_col0\" class=\"data row1 col0\" >28</td>\n",
       "                        <td id=\"T_fe8e2_row1_col1\" class=\"data row1 col1\" >$2.96</td>\n",
       "                        <td id=\"T_fe8e2_row1_col2\" class=\"data row1 col2\" >$82.78</td>\n",
       "                        <td id=\"T_fe8e2_row1_col3\" class=\"data row1 col3\" >$3.76</td>\n",
       "            </tr>\n",
       "            <tr>\n",
       "                        <th id=\"T_fe8e2_level0_row2\" class=\"row_heading level0 row2\" >15-19</th>\n",
       "                        <td id=\"T_fe8e2_row2_col0\" class=\"data row2 col0\" >136</td>\n",
       "                        <td id=\"T_fe8e2_row2_col1\" class=\"data row2 col1\" >$3.04</td>\n",
       "                        <td id=\"T_fe8e2_row2_col2\" class=\"data row2 col2\" >$412.89</td>\n",
       "                        <td id=\"T_fe8e2_row2_col3\" class=\"data row2 col3\" >$3.86</td>\n",
       "            </tr>\n",
       "            <tr>\n",
       "                        <th id=\"T_fe8e2_level0_row3\" class=\"row_heading level0 row3\" >20-24</th>\n",
       "                        <td id=\"T_fe8e2_row3_col0\" class=\"data row3 col0\" >365</td>\n",
       "                        <td id=\"T_fe8e2_row3_col1\" class=\"data row3 col1\" >$3.05</td>\n",
       "                        <td id=\"T_fe8e2_row3_col2\" class=\"data row3 col2\" >$1,114.06</td>\n",
       "                        <td id=\"T_fe8e2_row3_col3\" class=\"data row3 col3\" >$4.32</td>\n",
       "            </tr>\n",
       "            <tr>\n",
       "                        <th id=\"T_fe8e2_level0_row4\" class=\"row_heading level0 row4\" >25-29</th>\n",
       "                        <td id=\"T_fe8e2_row4_col0\" class=\"data row4 col0\" >101</td>\n",
       "                        <td id=\"T_fe8e2_row4_col1\" class=\"data row4 col1\" >$2.90</td>\n",
       "                        <td id=\"T_fe8e2_row4_col2\" class=\"data row4 col2\" >$293.00</td>\n",
       "                        <td id=\"T_fe8e2_row4_col3\" class=\"data row4 col3\" >$3.81</td>\n",
       "            </tr>\n",
       "            <tr>\n",
       "                        <th id=\"T_fe8e2_level0_row5\" class=\"row_heading level0 row5\" >30-34</th>\n",
       "                        <td id=\"T_fe8e2_row5_col0\" class=\"data row5 col0\" >73</td>\n",
       "                        <td id=\"T_fe8e2_row5_col1\" class=\"data row5 col1\" >$2.93</td>\n",
       "                        <td id=\"T_fe8e2_row5_col2\" class=\"data row5 col2\" >$214.00</td>\n",
       "                        <td id=\"T_fe8e2_row5_col3\" class=\"data row5 col3\" >$4.12</td>\n",
       "            </tr>\n",
       "            <tr>\n",
       "                        <th id=\"T_fe8e2_level0_row6\" class=\"row_heading level0 row6\" >35-39</th>\n",
       "                        <td id=\"T_fe8e2_row6_col0\" class=\"data row6 col0\" >41</td>\n",
       "                        <td id=\"T_fe8e2_row6_col1\" class=\"data row6 col1\" >$3.60</td>\n",
       "                        <td id=\"T_fe8e2_row6_col2\" class=\"data row6 col2\" >$147.67</td>\n",
       "                        <td id=\"T_fe8e2_row6_col3\" class=\"data row6 col3\" >$4.76</td>\n",
       "            </tr>\n",
       "            <tr>\n",
       "                        <th id=\"T_fe8e2_level0_row7\" class=\"row_heading level0 row7\" >40+</th>\n",
       "                        <td id=\"T_fe8e2_row7_col0\" class=\"data row7 col0\" >13</td>\n",
       "                        <td id=\"T_fe8e2_row7_col1\" class=\"data row7 col1\" >$2.94</td>\n",
       "                        <td id=\"T_fe8e2_row7_col2\" class=\"data row7 col2\" >$38.24</td>\n",
       "                        <td id=\"T_fe8e2_row7_col3\" class=\"data row7 col3\" >$3.19</td>\n",
       "            </tr>\n",
       "    </tbody></table>"
      ],
      "text/plain": [
       "<pandas.io.formats.style.Styler at 0x19296d9de20>"
      ]
     },
     "execution_count": 18,
     "metadata": {},
     "output_type": "execute_result"
    }
   ],
   "source": [
    "#Calculate purchase count by age\n",
    "age_purchase_count = age_summary_df['Purchase ID'].count()\n",
    "#age_purchase_count.head()\n",
    "\n",
    "#Calculate avg purchase price by age\n",
    "avage_purchase_price = age_summary_df['Price'].mean()\n",
    "#avage_purchase_price.head()\n",
    "\n",
    "#Calculate total purchase value by age\n",
    "total_purchase_value = age_summary_df['Price'].sum()\n",
    "#total_purchase_value.head()\n",
    "\n",
    "#Calculate avg purchase price per person by age\n",
    "avage_purchase_perperson = total_purchase_value/age_group_totals\n",
    "#avage_purchase_perperson.head()\n",
    "\n",
    "#Create data frame\n",
    "age_analysis_df = pd.DataFrame({\"Purchase Count\": age_purchase_count,\n",
    "                           \"Average Purchase Price\": avage_purchase_price,\n",
    "                               \"Total Purchase Value\": total_purchase_value,\n",
    "                               \"Avg Total Purchase per Person\": avage_purchase_perperson})\n",
    "#Show dataframe\n",
    "age_analysis_df\n",
    "\n",
    "#Format dataframe\n",
    "age_analysis_df.style.format({'Average Purchase Price':'${:,.2f}',\n",
    "                                    'Total Purchase Value':'${:,.2f}',\n",
    "                                    'Avg Total Purchase per Person':'${:,.2f}'})\n"
   ]
  },
  {
   "cell_type": "markdown",
   "metadata": {},
   "source": [
    "## Top Spenders"
   ]
  },
  {
   "cell_type": "markdown",
   "metadata": {},
   "source": [
    "* Run basic calculations to obtain the results in the table below\n",
    "\n",
    "\n",
    "* Create a summary data frame to hold the results\n",
    "\n",
    "\n",
    "* Sort the total purchase value column in descending order\n",
    "\n",
    "\n",
    "* Optional: give the displayed data cleaner formatting\n",
    "\n",
    "\n",
    "* Display a preview of the summary data frame\n",
    "\n"
   ]
  },
  {
   "cell_type": "code",
   "execution_count": 19,
   "metadata": {},
   "outputs": [
    {
     "data": {
      "text/html": [
       "<style  type=\"text/css\" >\n",
       "</style><table id=\"T_418d5_\" ><thead>    <tr>        <th class=\"blank level0\" ></th>        <th class=\"col_heading level0 col0\" >Purchase Count</th>        <th class=\"col_heading level0 col1\" >Average Purchase Price</th>        <th class=\"col_heading level0 col2\" >Total Purchase Value</th>    </tr>    <tr>        <th class=\"index_name level0\" >SN</th>        <th class=\"blank\" ></th>        <th class=\"blank\" ></th>        <th class=\"blank\" ></th>    </tr></thead><tbody>\n",
       "                <tr>\n",
       "                        <th id=\"T_418d5_level0_row0\" class=\"row_heading level0 row0\" >Lisosia93</th>\n",
       "                        <td id=\"T_418d5_row0_col0\" class=\"data row0 col0\" >5</td>\n",
       "                        <td id=\"T_418d5_row0_col1\" class=\"data row0 col1\" >$3.79</td>\n",
       "                        <td id=\"T_418d5_row0_col2\" class=\"data row0 col2\" >$18.96</td>\n",
       "            </tr>\n",
       "            <tr>\n",
       "                        <th id=\"T_418d5_level0_row1\" class=\"row_heading level0 row1\" >Idastidru52</th>\n",
       "                        <td id=\"T_418d5_row1_col0\" class=\"data row1 col0\" >4</td>\n",
       "                        <td id=\"T_418d5_row1_col1\" class=\"data row1 col1\" >$3.86</td>\n",
       "                        <td id=\"T_418d5_row1_col2\" class=\"data row1 col2\" >$15.45</td>\n",
       "            </tr>\n",
       "            <tr>\n",
       "                        <th id=\"T_418d5_level0_row2\" class=\"row_heading level0 row2\" >Chamjask73</th>\n",
       "                        <td id=\"T_418d5_row2_col0\" class=\"data row2 col0\" >3</td>\n",
       "                        <td id=\"T_418d5_row2_col1\" class=\"data row2 col1\" >$4.61</td>\n",
       "                        <td id=\"T_418d5_row2_col2\" class=\"data row2 col2\" >$13.83</td>\n",
       "            </tr>\n",
       "            <tr>\n",
       "                        <th id=\"T_418d5_level0_row3\" class=\"row_heading level0 row3\" >Iral74</th>\n",
       "                        <td id=\"T_418d5_row3_col0\" class=\"data row3 col0\" >4</td>\n",
       "                        <td id=\"T_418d5_row3_col1\" class=\"data row3 col1\" >$3.40</td>\n",
       "                        <td id=\"T_418d5_row3_col2\" class=\"data row3 col2\" >$13.62</td>\n",
       "            </tr>\n",
       "            <tr>\n",
       "                        <th id=\"T_418d5_level0_row4\" class=\"row_heading level0 row4\" >Iskadarya95</th>\n",
       "                        <td id=\"T_418d5_row4_col0\" class=\"data row4 col0\" >3</td>\n",
       "                        <td id=\"T_418d5_row4_col1\" class=\"data row4 col1\" >$4.37</td>\n",
       "                        <td id=\"T_418d5_row4_col2\" class=\"data row4 col2\" >$13.10</td>\n",
       "            </tr>\n",
       "    </tbody></table>"
      ],
      "text/plain": [
       "<pandas.io.formats.style.Styler at 0x19296d8bf70>"
      ]
     },
     "execution_count": 19,
     "metadata": {},
     "output_type": "execute_result"
    }
   ],
   "source": [
    "#Create spenders group\n",
    "spenders_group = purchase_data_df.groupby('SN')\n",
    "#spenders_group.head()\n",
    "\n",
    "#Count spend by SN\n",
    "sn_purchase_count = spenders_group['Purchase ID'].count()\n",
    "#sn_purchase_count.count()\n",
    "\n",
    "#Calculate average purchase price per SN\n",
    "snavg_purchaseprice = spenders_group['Price'].mean()\n",
    "\n",
    "#Calculate total purchase value by SN\n",
    "sn_total_purvalue = spenders_group['Price'].sum()\n",
    "#sn_total_purvalue.head()\n",
    "\n",
    "#Create dataframe\n",
    "topspenders_df = pd.DataFrame({\"Purchase Count\": sn_purchase_count,\n",
    "                           \"Average Purchase Price\": snavg_purchaseprice,\n",
    "                               \"Total Purchase Value\": sn_total_purvalue,})\n",
    "\n",
    "#Sort data in new dataframe\n",
    "sorted_topspenders_df = topspenders_df.sort_values([\"Total Purchase Value\"], ascending=False).head()\n",
    "\n",
    "#Show sorted dataframe\n",
    "sorted_topspenders_df\n",
    "\n",
    "#Format dataframe\n",
    "sorted_topspenders_df.style.format({'Average Purchase Price':'${:,.2f}',\n",
    "                                    'Total Purchase Value':'${:,.2f}',})\n",
    "\n"
   ]
  },
  {
   "cell_type": "markdown",
   "metadata": {},
   "source": [
    "## Most Popular Items"
   ]
  },
  {
   "cell_type": "markdown",
   "metadata": {},
   "source": [
    "* Retrieve the Item ID, Item Name, and Item Price columns\n",
    "\n",
    "\n",
    "* Group by Item ID and Item Name. Perform calculations to obtain purchase count, average item price, and total purchase value\n",
    "\n",
    "\n",
    "* Create a summary data frame to hold the results\n",
    "\n",
    "\n",
    "* Sort the purchase count column in descending order\n",
    "\n",
    "\n",
    "* Optional: give the displayed data cleaner formatting\n",
    "\n",
    "\n",
    "* Display a preview of the summary data frame\n",
    "\n"
   ]
  },
  {
   "cell_type": "code",
   "execution_count": 20,
   "metadata": {},
   "outputs": [
    {
     "data": {
      "text/html": [
       "<style  type=\"text/css\" >\n",
       "</style><table id=\"T_66530_\" ><thead>    <tr>        <th class=\"blank\" ></th>        <th class=\"blank level0\" ></th>        <th class=\"col_heading level0 col0\" >Purchase Count</th>        <th class=\"col_heading level0 col1\" >Average Item Price</th>        <th class=\"col_heading level0 col2\" >Total Purchase Value</th>    </tr>    <tr>        <th class=\"index_name level0\" >Item ID</th>        <th class=\"index_name level1\" >Item Name</th>        <th class=\"blank\" ></th>        <th class=\"blank\" ></th>        <th class=\"blank\" ></th>    </tr></thead><tbody>\n",
       "                <tr>\n",
       "                        <th id=\"T_66530_level0_row0\" class=\"row_heading level0 row0\" >92</th>\n",
       "                        <th id=\"T_66530_level1_row0\" class=\"row_heading level1 row0\" >Final Critic</th>\n",
       "                        <td id=\"T_66530_row0_col0\" class=\"data row0 col0\" >13</td>\n",
       "                        <td id=\"T_66530_row0_col1\" class=\"data row0 col1\" >$4.61</td>\n",
       "                        <td id=\"T_66530_row0_col2\" class=\"data row0 col2\" >$59.99</td>\n",
       "            </tr>\n",
       "            <tr>\n",
       "                        <th id=\"T_66530_level0_row1\" class=\"row_heading level0 row1\" >178</th>\n",
       "                        <th id=\"T_66530_level1_row1\" class=\"row_heading level1 row1\" >Oathbreaker, Last Hope of the Breaking Storm</th>\n",
       "                        <td id=\"T_66530_row1_col0\" class=\"data row1 col0\" >12</td>\n",
       "                        <td id=\"T_66530_row1_col1\" class=\"data row1 col1\" >$4.23</td>\n",
       "                        <td id=\"T_66530_row1_col2\" class=\"data row1 col2\" >$50.76</td>\n",
       "            </tr>\n",
       "            <tr>\n",
       "                        <th id=\"T_66530_level0_row2\" class=\"row_heading level0 row2\" >145</th>\n",
       "                        <th id=\"T_66530_level1_row2\" class=\"row_heading level1 row2\" >Fiery Glass Crusader</th>\n",
       "                        <td id=\"T_66530_row2_col0\" class=\"data row2 col0\" >9</td>\n",
       "                        <td id=\"T_66530_row2_col1\" class=\"data row2 col1\" >$4.58</td>\n",
       "                        <td id=\"T_66530_row2_col2\" class=\"data row2 col2\" >$41.22</td>\n",
       "            </tr>\n",
       "            <tr>\n",
       "                        <th id=\"T_66530_level0_row3\" class=\"row_heading level0 row3\" >132</th>\n",
       "                        <th id=\"T_66530_level1_row3\" class=\"row_heading level1 row3\" >Persuasion</th>\n",
       "                        <td id=\"T_66530_row3_col0\" class=\"data row3 col0\" >9</td>\n",
       "                        <td id=\"T_66530_row3_col1\" class=\"data row3 col1\" >$3.22</td>\n",
       "                        <td id=\"T_66530_row3_col2\" class=\"data row3 col2\" >$28.99</td>\n",
       "            </tr>\n",
       "            <tr>\n",
       "                        <th id=\"T_66530_level0_row4\" class=\"row_heading level0 row4\" >108</th>\n",
       "                        <th id=\"T_66530_level1_row4\" class=\"row_heading level1 row4\" >Extraction, Quickblade Of Trembling Hands</th>\n",
       "                        <td id=\"T_66530_row4_col0\" class=\"data row4 col0\" >9</td>\n",
       "                        <td id=\"T_66530_row4_col1\" class=\"data row4 col1\" >$3.53</td>\n",
       "                        <td id=\"T_66530_row4_col2\" class=\"data row4 col2\" >$31.77</td>\n",
       "            </tr>\n",
       "    </tbody></table>"
      ],
      "text/plain": [
       "<pandas.io.formats.style.Styler at 0x19296c3f580>"
      ]
     },
     "execution_count": 20,
     "metadata": {},
     "output_type": "execute_result"
    }
   ],
   "source": [
    "#Create dataframe for items\n",
    "popular_items_df = purchase_data_df[['Item ID', 'Item Name', 'Price']]\n",
    "\n",
    "#Group items in dataframe\n",
    "item_group = popular_items_df.groupby(['Item ID', 'Item Name'])\n",
    "#item_group.head()\n",
    "\n",
    "#Count purchased items\n",
    "purchased_items = item_group['Price'].count()\n",
    "#purchased_items.count()\n",
    "\n",
    "#Calculate Purchase total\n",
    "purchase_total = item_group['Price'].sum()\n",
    "#purchase_total.head()\n",
    "\n",
    "#Calculate avg item price\n",
    "avg_item_price = purchase_total / purchased_items\n",
    "\n",
    "#Create most popular item df\n",
    "most_popular_df = pd.DataFrame({\"Purchase Count\": purchased_items,\n",
    "                           \"Average Item Price\": avg_item_price,\n",
    "                               \"Total Purchase Value\": purchase_total})\n",
    "#Sort dataframe\n",
    "sorted_mostpop_df = most_popular_df.sort_values([\"Purchase Count\"], ascending=False).head()\n",
    "\n",
    "#Show dataframe\n",
    "sorted_mostpop_df\n",
    "\n",
    "#Format dataframe\n",
    "sorted_mostpop_df.style.format({'Average Item Price':'${:,.2f}',\n",
    "                                    'Total Purchase Value':'${:,.2f}',})\n"
   ]
  },
  {
   "cell_type": "markdown",
   "metadata": {},
   "source": [
    "## Most Profitable Items"
   ]
  },
  {
   "cell_type": "markdown",
   "metadata": {},
   "source": [
    "* Sort the above table by total purchase value in descending order\n",
    "\n",
    "\n",
    "* Optional: give the displayed data cleaner formatting\n",
    "\n",
    "\n",
    "* Display a preview of the data frame\n",
    "\n"
   ]
  },
  {
   "cell_type": "code",
   "execution_count": 21,
   "metadata": {
    "scrolled": true
   },
   "outputs": [
    {
     "data": {
      "text/html": [
       "<style  type=\"text/css\" >\n",
       "</style><table id=\"T_44614_\" ><thead>    <tr>        <th class=\"blank\" ></th>        <th class=\"blank level0\" ></th>        <th class=\"col_heading level0 col0\" >Purchase Count</th>        <th class=\"col_heading level0 col1\" >Average Item Price</th>        <th class=\"col_heading level0 col2\" >Total Purchase Value</th>    </tr>    <tr>        <th class=\"index_name level0\" >Item ID</th>        <th class=\"index_name level1\" >Item Name</th>        <th class=\"blank\" ></th>        <th class=\"blank\" ></th>        <th class=\"blank\" ></th>    </tr></thead><tbody>\n",
       "                <tr>\n",
       "                        <th id=\"T_44614_level0_row0\" class=\"row_heading level0 row0\" >92</th>\n",
       "                        <th id=\"T_44614_level1_row0\" class=\"row_heading level1 row0\" >Final Critic</th>\n",
       "                        <td id=\"T_44614_row0_col0\" class=\"data row0 col0\" >13</td>\n",
       "                        <td id=\"T_44614_row0_col1\" class=\"data row0 col1\" >$4.61</td>\n",
       "                        <td id=\"T_44614_row0_col2\" class=\"data row0 col2\" >$59.99</td>\n",
       "            </tr>\n",
       "            <tr>\n",
       "                        <th id=\"T_44614_level0_row1\" class=\"row_heading level0 row1\" >178</th>\n",
       "                        <th id=\"T_44614_level1_row1\" class=\"row_heading level1 row1\" >Oathbreaker, Last Hope of the Breaking Storm</th>\n",
       "                        <td id=\"T_44614_row1_col0\" class=\"data row1 col0\" >12</td>\n",
       "                        <td id=\"T_44614_row1_col1\" class=\"data row1 col1\" >$4.23</td>\n",
       "                        <td id=\"T_44614_row1_col2\" class=\"data row1 col2\" >$50.76</td>\n",
       "            </tr>\n",
       "            <tr>\n",
       "                        <th id=\"T_44614_level0_row2\" class=\"row_heading level0 row2\" >82</th>\n",
       "                        <th id=\"T_44614_level1_row2\" class=\"row_heading level1 row2\" >Nirvana</th>\n",
       "                        <td id=\"T_44614_row2_col0\" class=\"data row2 col0\" >9</td>\n",
       "                        <td id=\"T_44614_row2_col1\" class=\"data row2 col1\" >$4.90</td>\n",
       "                        <td id=\"T_44614_row2_col2\" class=\"data row2 col2\" >$44.10</td>\n",
       "            </tr>\n",
       "            <tr>\n",
       "                        <th id=\"T_44614_level0_row3\" class=\"row_heading level0 row3\" >145</th>\n",
       "                        <th id=\"T_44614_level1_row3\" class=\"row_heading level1 row3\" >Fiery Glass Crusader</th>\n",
       "                        <td id=\"T_44614_row3_col0\" class=\"data row3 col0\" >9</td>\n",
       "                        <td id=\"T_44614_row3_col1\" class=\"data row3 col1\" >$4.58</td>\n",
       "                        <td id=\"T_44614_row3_col2\" class=\"data row3 col2\" >$41.22</td>\n",
       "            </tr>\n",
       "            <tr>\n",
       "                        <th id=\"T_44614_level0_row4\" class=\"row_heading level0 row4\" >103</th>\n",
       "                        <th id=\"T_44614_level1_row4\" class=\"row_heading level1 row4\" >Singed Scalpel</th>\n",
       "                        <td id=\"T_44614_row4_col0\" class=\"data row4 col0\" >8</td>\n",
       "                        <td id=\"T_44614_row4_col1\" class=\"data row4 col1\" >$4.35</td>\n",
       "                        <td id=\"T_44614_row4_col2\" class=\"data row4 col2\" >$34.80</td>\n",
       "            </tr>\n",
       "    </tbody></table>"
      ],
      "text/plain": [
       "<pandas.io.formats.style.Styler at 0x19296ea24f0>"
      ]
     },
     "execution_count": 21,
     "metadata": {},
     "output_type": "execute_result"
    }
   ],
   "source": [
    "#Sort most popular df by total purchase value\n",
    "sorted_mostpop_df = most_popular_df.sort_values([\"Total Purchase Value\"], ascending=False).head()\n",
    "\n",
    "#Show dataframe\n",
    "sorted_mostpop_df\n",
    "\n",
    "#Format Dataframe\n",
    "sorted_mostpop_df.style.format({'Average Item Price':'${:,.2f}',\n",
    "                                    'Total Purchase Value':'${:,.2f}',})"
   ]
  },
  {
   "cell_type": "code",
   "execution_count": null,
   "metadata": {},
   "outputs": [],
   "source": []
  }
 ],
 "metadata": {
  "anaconda-cloud": {},
  "kernel_info": {
   "name": "python3"
  },
  "kernelspec": {
   "display_name": "Python 3",
   "language": "python",
   "name": "python3"
  },
  "language_info": {
   "codemirror_mode": {
    "name": "ipython",
    "version": 3
   },
   "file_extension": ".py",
   "mimetype": "text/x-python",
   "name": "python",
   "nbconvert_exporter": "python",
   "pygments_lexer": "ipython3",
   "version": "3.8.8"
  },
  "latex_envs": {
   "LaTeX_envs_menu_present": true,
   "autoclose": false,
   "autocomplete": true,
   "bibliofile": "biblio.bib",
   "cite_by": "apalike",
   "current_citInitial": 1,
   "eqLabelWithNumbers": true,
   "eqNumInitial": 1,
   "hotkeys": {
    "equation": "Ctrl-E",
    "itemize": "Ctrl-I"
   },
   "labels_anchors": false,
   "latex_user_defs": false,
   "report_style_numbering": false,
   "user_envs_cfg": false
  },
  "nteract": {
   "version": "0.2.0"
  }
 },
 "nbformat": 4,
 "nbformat_minor": 2
}
